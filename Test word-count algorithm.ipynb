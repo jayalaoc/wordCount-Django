{
 "cells": [
  {
   "cell_type": "code",
   "execution_count": 19,
   "metadata": {},
   "outputs": [
    {
     "name": "stdout",
     "output_type": "stream",
     "text": [
      "4 - work\n",
      "4 - please\n",
      "fulltext: work please  work please  work please  work please  count: 8 sortedwords: [(4, 'work'), (4, 'please')]\n"
     ]
    }
   ],
   "source": [
    "Text=\"Work please. Work please? Work please, work please.\"\n",
    "# Cleaning text and lower casing all words\n",
    "for char in '?!-.,\\n':\n",
    "    Text=Text.replace(char,' ')\n",
    "Text = Text.lower()\n",
    "\n",
    "wordlist = Text.split()\n",
    "\n",
    "worddictionary = {} #empty dictionary that will contain words from wordlist\n",
    "\n",
    "for word in wordlist:\n",
    "    if word not in worddictionary:\n",
    "        #Increase\n",
    "        worddictionary[word] = 0\n",
    "    worddictionary[word] += 1\n",
    "\n",
    "word_freq = []\n",
    "for key, value in worddictionary.items():\n",
    "    word_freq.append((value, key))\n",
    "\n",
    "word_freq.sort(reverse=True)\n",
    "\n",
    "for word, counttotal in word_freq:\n",
    "    print(word, \"-\", counttotal)\n",
    "    \n",
    "print('fulltext:' , Text, 'count:' , len(wordlist), 'sortedwords:' , word_freq )"
   ]
  },
  {
   "cell_type": "code",
   "execution_count": null,
   "metadata": {},
   "outputs": [],
   "source": []
  }
 ],
 "metadata": {
  "kernelspec": {
   "display_name": "Python 3",
   "language": "python",
   "name": "python3"
  },
  "language_info": {
   "codemirror_mode": {
    "name": "ipython",
    "version": 3
   },
   "file_extension": ".py",
   "mimetype": "text/x-python",
   "name": "python",
   "nbconvert_exporter": "python",
   "pygments_lexer": "ipython3",
   "version": "3.8.5"
  }
 },
 "nbformat": 4,
 "nbformat_minor": 4
}
